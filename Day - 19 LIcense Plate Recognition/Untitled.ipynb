{
 "cells": [
  {
   "cell_type": "code",
   "execution_count": 34,
   "id": "6b0c5031-c9f6-4cb6-ad4b-4a0ea0d69a78",
   "metadata": {
    "ExecuteTime": {
     "end_time": "2023-11-25T15:13:45.335718500Z",
     "start_time": "2023-11-25T15:13:45.325111700Z"
    }
   },
   "outputs": [],
   "source": [
    "import json\n",
    "import base64\n",
    "import requests\n",
    "from auth_key import SECRET_KEY"
   ]
  },
  {
   "cell_type": "code",
   "execution_count": 35,
   "id": "d384ffe9-d4c0-4e88-af5e-65a5508d88d9",
   "metadata": {
    "ExecuteTime": {
     "end_time": "2023-11-25T15:13:46.024480600Z",
     "start_time": "2023-11-25T15:13:46.024480600Z"
    }
   },
   "outputs": [],
   "source": [
    "image = 'first.jpg'\n",
    "with open(image, 'rb') as imgfile:\n",
    "    img_base64 = base64.b64encode(imgfile.read())"
   ]
  },
  {
   "cell_type": "code",
   "execution_count": 44,
   "id": "3d95c75e-38f6-449e-9d4a-4bcb676f890e",
   "metadata": {
    "ExecuteTime": {
     "end_time": "2023-11-25T15:16:08.976092800Z",
     "start_time": "2023-11-25T15:16:06.893040600Z"
    }
   },
   "outputs": [],
   "source": [
    "url = 'https://api.openalpr.com/v2/recognize_bytes?recognize_vehicle=1&country=us&secret_key=%s' % (SECRET_KEY)\n",
    "r = requests.post(url, data=img_base64)"
   ]
  },
  {
   "cell_type": "code",
   "execution_count": 88,
   "id": "e42cb016-4594-42ce-a198-6a9516e139d1",
   "metadata": {
    "ExecuteTime": {
     "end_time": "2023-11-25T15:37:54.691046900Z",
     "start_time": "2023-11-25T15:37:54.675400600Z"
    }
   },
   "outputs": [
    {
     "name": "stdout",
     "output_type": "stream",
     "text": [
      "Number plate found\n",
      "-------------------\n",
      "Owner Name: Jagavantha\n",
      "Vehicle Type: Car\n",
      "Vehicle Model: Maruti Suzuki Swift\n",
      "Vehicle Color: White\n",
      "Vehicle Number: HR26D0555 \n",
      "-------------------\n"
     ]
    }
   ],
   "source": [
    "num_plate = json.dumps(r.json(), indent=2)\n",
    "info = (list(num_plate.split(\"candidates\")))\n",
    "plate = info[1]\n",
    "plate = plate.split(',')[0:3]\n",
    "p = plate[0]\n",
    "p1 = p.split(\":\")\n",
    "number = p1[2]\n",
    "number = number.replace('\"', ' ')\n",
    "number = number.lstrip()\n",
    "\n",
    "if number == 'HR26D0555 ':\n",
    "    print(\"Number plate found\")\n",
    "    print(\"-------------------\")\n",
    "    print(\"Owner Name: Jagavantha\")\n",
    "    print(\"Vehicle Type: Car\")\n",
    "    print(\"Vehicle Model: Maruti Suzuki Swift\")\n",
    "    print(\"Vehicle Color: White\")\n",
    "    print(\"Vehicle Number: %s\" % (number))\n",
    "    print(\"-------------------\")\n",
    "else:\n",
    "    print(\"No number plate found\")"
   ]
  },
  {
   "cell_type": "code",
   "execution_count": null,
   "outputs": [],
   "source": [],
   "metadata": {
    "collapsed": false
   },
   "id": "f50fd39d1a0ec458"
  }
 ],
 "metadata": {
  "kernelspec": {
   "display_name": "Python 3 (ipykernel)",
   "language": "python",
   "name": "python3"
  },
  "language_info": {
   "codemirror_mode": {
    "name": "ipython",
    "version": 3
   },
   "file_extension": ".py",
   "mimetype": "text/x-python",
   "name": "python",
   "nbconvert_exporter": "python",
   "pygments_lexer": "ipython3",
   "version": "3.12.0"
  }
 },
 "nbformat": 4,
 "nbformat_minor": 5
}
